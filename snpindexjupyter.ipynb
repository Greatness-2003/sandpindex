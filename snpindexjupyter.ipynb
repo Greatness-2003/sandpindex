{
 "cells": [
  {
   "cell_type": "code",
   "execution_count": 1,
   "metadata": {},
   "outputs": [],
   "source": [
    "import pandas as pd\n",
    "import seaborn as sns\n",
    "import matplotlib.pyplot as plt\n",
    "from datetime import datetime \n",
    "import numpy as np\n",
    "from sklearn.linear_model import LinearRegression"
   ]
  },
  {
   "cell_type": "code",
   "execution_count": 2,
   "metadata": {},
   "outputs": [],
   "source": [
    "df = pd.read_csv('S&Pdata.csv')"
   ]
  },
  {
   "cell_type": "code",
   "execution_count": 3,
   "metadata": {},
   "outputs": [
    {
     "data": {
      "text/html": [
       "<div>\n",
       "<style scoped>\n",
       "    .dataframe tbody tr th:only-of-type {\n",
       "        vertical-align: middle;\n",
       "    }\n",
       "\n",
       "    .dataframe tbody tr th {\n",
       "        vertical-align: top;\n",
       "    }\n",
       "\n",
       "    .dataframe thead th {\n",
       "        text-align: right;\n",
       "    }\n",
       "</style>\n",
       "<table border=\"1\" class=\"dataframe\">\n",
       "  <thead>\n",
       "    <tr style=\"text-align: right;\">\n",
       "      <th></th>\n",
       "      <th>Date</th>\n",
       "      <th>Open</th>\n",
       "      <th>High</th>\n",
       "      <th>Low</th>\n",
       "      <th>Close*</th>\n",
       "      <th>Adj Close**</th>\n",
       "      <th>Volume</th>\n",
       "    </tr>\n",
       "  </thead>\n",
       "  <tbody>\n",
       "    <tr>\n",
       "      <th>0</th>\n",
       "      <td>Aug 12, 2021</td>\n",
       "      <td>4,446.08</td>\n",
       "      <td>4,460.00</td>\n",
       "      <td>4,435.96</td>\n",
       "      <td>4,459.75</td>\n",
       "      <td>4,459.75</td>\n",
       "      <td>1,170,482,000</td>\n",
       "    </tr>\n",
       "    <tr>\n",
       "      <th>1</th>\n",
       "      <td>Aug 11, 2021</td>\n",
       "      <td>4,442.18</td>\n",
       "      <td>4,449.44</td>\n",
       "      <td>4,436.42</td>\n",
       "      <td>4,442.41</td>\n",
       "      <td>4,442.41</td>\n",
       "      <td>2,803,060,000</td>\n",
       "    </tr>\n",
       "    <tr>\n",
       "      <th>2</th>\n",
       "      <td>Aug 10, 2021</td>\n",
       "      <td>4,435.79</td>\n",
       "      <td>4,445.21</td>\n",
       "      <td>4,430.03</td>\n",
       "      <td>4,436.75</td>\n",
       "      <td>4,436.75</td>\n",
       "      <td>3,219,840,000</td>\n",
       "    </tr>\n",
       "    <tr>\n",
       "      <th>3</th>\n",
       "      <td>Aug 09, 2021</td>\n",
       "      <td>4,437.77</td>\n",
       "      <td>4,439.39</td>\n",
       "      <td>4,424.74</td>\n",
       "      <td>4,432.35</td>\n",
       "      <td>4,432.35</td>\n",
       "      <td>2,779,880,000</td>\n",
       "    </tr>\n",
       "    <tr>\n",
       "      <th>4</th>\n",
       "      <td>Aug 06, 2021</td>\n",
       "      <td>4,429.07</td>\n",
       "      <td>4,440.82</td>\n",
       "      <td>4,429.07</td>\n",
       "      <td>4,436.52</td>\n",
       "      <td>4,436.52</td>\n",
       "      <td>2,839,970,000</td>\n",
       "    </tr>\n",
       "  </tbody>\n",
       "</table>\n",
       "</div>"
      ],
      "text/plain": [
       "           Date      Open      High       Low    Close* Adj Close**  \\\n",
       "0  Aug 12, 2021  4,446.08  4,460.00  4,435.96  4,459.75    4,459.75   \n",
       "1  Aug 11, 2021  4,442.18  4,449.44  4,436.42  4,442.41    4,442.41   \n",
       "2  Aug 10, 2021  4,435.79  4,445.21  4,430.03  4,436.75    4,436.75   \n",
       "3  Aug 09, 2021  4,437.77  4,439.39  4,424.74  4,432.35    4,432.35   \n",
       "4  Aug 06, 2021  4,429.07  4,440.82  4,429.07  4,436.52    4,436.52   \n",
       "\n",
       "          Volume  \n",
       "0  1,170,482,000  \n",
       "1  2,803,060,000  \n",
       "2  3,219,840,000  \n",
       "3  2,779,880,000  \n",
       "4  2,839,970,000  "
      ]
     },
     "execution_count": 3,
     "metadata": {},
     "output_type": "execute_result"
    }
   ],
   "source": [
    "df.head()"
   ]
  },
  {
   "cell_type": "code",
   "execution_count": 4,
   "metadata": {},
   "outputs": [
    {
     "data": {
      "text/html": [
       "<div>\n",
       "<style scoped>\n",
       "    .dataframe tbody tr th:only-of-type {\n",
       "        vertical-align: middle;\n",
       "    }\n",
       "\n",
       "    .dataframe tbody tr th {\n",
       "        vertical-align: top;\n",
       "    }\n",
       "\n",
       "    .dataframe thead th {\n",
       "        text-align: right;\n",
       "    }\n",
       "</style>\n",
       "<table border=\"1\" class=\"dataframe\">\n",
       "  <thead>\n",
       "    <tr style=\"text-align: right;\">\n",
       "      <th></th>\n",
       "      <th>Date</th>\n",
       "      <th>Open</th>\n",
       "      <th>High</th>\n",
       "      <th>Low</th>\n",
       "      <th>Close*</th>\n",
       "      <th>Adj Close**</th>\n",
       "      <th>Volume</th>\n",
       "    </tr>\n",
       "  </thead>\n",
       "  <tbody>\n",
       "    <tr>\n",
       "      <th>0</th>\n",
       "      <td>Aug 12, 2021</td>\n",
       "      <td>4,446.08</td>\n",
       "      <td>4,460.00</td>\n",
       "      <td>4,435.96</td>\n",
       "      <td>4,459.75</td>\n",
       "      <td>4,459.75</td>\n",
       "      <td>1,170,482,000</td>\n",
       "    </tr>\n",
       "    <tr>\n",
       "      <th>1</th>\n",
       "      <td>Aug 11, 2021</td>\n",
       "      <td>4,442.18</td>\n",
       "      <td>4,449.44</td>\n",
       "      <td>4,436.42</td>\n",
       "      <td>4,442.41</td>\n",
       "      <td>4,442.41</td>\n",
       "      <td>2,803,060,000</td>\n",
       "    </tr>\n",
       "    <tr>\n",
       "      <th>2</th>\n",
       "      <td>Aug 10, 2021</td>\n",
       "      <td>4,435.79</td>\n",
       "      <td>4,445.21</td>\n",
       "      <td>4,430.03</td>\n",
       "      <td>4,436.75</td>\n",
       "      <td>4,436.75</td>\n",
       "      <td>3,219,840,000</td>\n",
       "    </tr>\n",
       "    <tr>\n",
       "      <th>3</th>\n",
       "      <td>Aug 09, 2021</td>\n",
       "      <td>4,437.77</td>\n",
       "      <td>4,439.39</td>\n",
       "      <td>4,424.74</td>\n",
       "      <td>4,432.35</td>\n",
       "      <td>4,432.35</td>\n",
       "      <td>2,779,880,000</td>\n",
       "    </tr>\n",
       "    <tr>\n",
       "      <th>4</th>\n",
       "      <td>Aug 06, 2021</td>\n",
       "      <td>4,429.07</td>\n",
       "      <td>4,440.82</td>\n",
       "      <td>4,429.07</td>\n",
       "      <td>4,436.52</td>\n",
       "      <td>4,436.52</td>\n",
       "      <td>2,839,970,000</td>\n",
       "    </tr>\n",
       "    <tr>\n",
       "      <th>...</th>\n",
       "      <td>...</td>\n",
       "      <td>...</td>\n",
       "      <td>...</td>\n",
       "      <td>...</td>\n",
       "      <td>...</td>\n",
       "      <td>...</td>\n",
       "      <td>...</td>\n",
       "    </tr>\n",
       "    <tr>\n",
       "      <th>248</th>\n",
       "      <td>Aug 18, 2020</td>\n",
       "      <td>3,387.04</td>\n",
       "      <td>3,395.06</td>\n",
       "      <td>3,370.15</td>\n",
       "      <td>3,389.78</td>\n",
       "      <td>3,389.78</td>\n",
       "      <td>3,881,310,000</td>\n",
       "    </tr>\n",
       "    <tr>\n",
       "      <th>249</th>\n",
       "      <td>Aug 17, 2020</td>\n",
       "      <td>3,380.86</td>\n",
       "      <td>3,387.59</td>\n",
       "      <td>3,379.22</td>\n",
       "      <td>3,381.99</td>\n",
       "      <td>3,381.99</td>\n",
       "      <td>3,671,290,000</td>\n",
       "    </tr>\n",
       "    <tr>\n",
       "      <th>250</th>\n",
       "      <td>Aug 14, 2020</td>\n",
       "      <td>3,368.66</td>\n",
       "      <td>3,378.51</td>\n",
       "      <td>3,361.64</td>\n",
       "      <td>3,372.85</td>\n",
       "      <td>3,372.85</td>\n",
       "      <td>3,193,400,000</td>\n",
       "    </tr>\n",
       "    <tr>\n",
       "      <th>251</th>\n",
       "      <td>Aug 13, 2020</td>\n",
       "      <td>3,372.95</td>\n",
       "      <td>3,387.24</td>\n",
       "      <td>3,363.35</td>\n",
       "      <td>3,373.43</td>\n",
       "      <td>3,373.43</td>\n",
       "      <td>3,648,810,000</td>\n",
       "    </tr>\n",
       "    <tr>\n",
       "      <th>252</th>\n",
       "      <td>Aug 12, 2020</td>\n",
       "      <td>3,355.46</td>\n",
       "      <td>3,387.89</td>\n",
       "      <td>3,355.46</td>\n",
       "      <td>3,380.35</td>\n",
       "      <td>3,380.35</td>\n",
       "      <td>3,768,560,000</td>\n",
       "    </tr>\n",
       "  </tbody>\n",
       "</table>\n",
       "<p>253 rows × 7 columns</p>\n",
       "</div>"
      ],
      "text/plain": [
       "             Date      Open      High       Low    Close* Adj Close**  \\\n",
       "0    Aug 12, 2021  4,446.08  4,460.00  4,435.96  4,459.75    4,459.75   \n",
       "1    Aug 11, 2021  4,442.18  4,449.44  4,436.42  4,442.41    4,442.41   \n",
       "2    Aug 10, 2021  4,435.79  4,445.21  4,430.03  4,436.75    4,436.75   \n",
       "3    Aug 09, 2021  4,437.77  4,439.39  4,424.74  4,432.35    4,432.35   \n",
       "4    Aug 06, 2021  4,429.07  4,440.82  4,429.07  4,436.52    4,436.52   \n",
       "..            ...       ...       ...       ...       ...         ...   \n",
       "248  Aug 18, 2020  3,387.04  3,395.06  3,370.15  3,389.78    3,389.78   \n",
       "249  Aug 17, 2020  3,380.86  3,387.59  3,379.22  3,381.99    3,381.99   \n",
       "250  Aug 14, 2020  3,368.66  3,378.51  3,361.64  3,372.85    3,372.85   \n",
       "251  Aug 13, 2020  3,372.95  3,387.24  3,363.35  3,373.43    3,373.43   \n",
       "252  Aug 12, 2020  3,355.46  3,387.89  3,355.46  3,380.35    3,380.35   \n",
       "\n",
       "            Volume  \n",
       "0    1,170,482,000  \n",
       "1    2,803,060,000  \n",
       "2    3,219,840,000  \n",
       "3    2,779,880,000  \n",
       "4    2,839,970,000  \n",
       "..             ...  \n",
       "248  3,881,310,000  \n",
       "249  3,671,290,000  \n",
       "250  3,193,400,000  \n",
       "251  3,648,810,000  \n",
       "252  3,768,560,000  \n",
       "\n",
       "[253 rows x 7 columns]"
      ]
     },
     "execution_count": 4,
     "metadata": {},
     "output_type": "execute_result"
    }
   ],
   "source": [
    "df1 = pd.read_csv('S&Pdata.csv')\n",
    "df1"
   ]
  },
  {
   "cell_type": "code",
   "execution_count": 5,
   "metadata": {},
   "outputs": [],
   "source": [
    "df1[\"Date\"] = pd.to_datetime(df1[\"Date\"], format='%b %d, %Y' )"
   ]
  },
  {
   "cell_type": "code",
   "execution_count": 6,
   "metadata": {},
   "outputs": [
    {
     "data": {
      "text/html": [
       "<div>\n",
       "<style scoped>\n",
       "    .dataframe tbody tr th:only-of-type {\n",
       "        vertical-align: middle;\n",
       "    }\n",
       "\n",
       "    .dataframe tbody tr th {\n",
       "        vertical-align: top;\n",
       "    }\n",
       "\n",
       "    .dataframe thead th {\n",
       "        text-align: right;\n",
       "    }\n",
       "</style>\n",
       "<table border=\"1\" class=\"dataframe\">\n",
       "  <thead>\n",
       "    <tr style=\"text-align: right;\">\n",
       "      <th></th>\n",
       "      <th>Open</th>\n",
       "      <th>High</th>\n",
       "      <th>Low</th>\n",
       "      <th>Close*</th>\n",
       "      <th>Adj Close**</th>\n",
       "      <th>Volume</th>\n",
       "    </tr>\n",
       "    <tr>\n",
       "      <th>Date</th>\n",
       "      <th></th>\n",
       "      <th></th>\n",
       "      <th></th>\n",
       "      <th></th>\n",
       "      <th></th>\n",
       "      <th></th>\n",
       "    </tr>\n",
       "  </thead>\n",
       "  <tbody>\n",
       "    <tr>\n",
       "      <th>2021-08-12</th>\n",
       "      <td>4,446.08</td>\n",
       "      <td>4,460.00</td>\n",
       "      <td>4,435.96</td>\n",
       "      <td>4,459.75</td>\n",
       "      <td>4,459.75</td>\n",
       "      <td>1,170,482,000</td>\n",
       "    </tr>\n",
       "    <tr>\n",
       "      <th>2021-08-11</th>\n",
       "      <td>4,442.18</td>\n",
       "      <td>4,449.44</td>\n",
       "      <td>4,436.42</td>\n",
       "      <td>4,442.41</td>\n",
       "      <td>4,442.41</td>\n",
       "      <td>2,803,060,000</td>\n",
       "    </tr>\n",
       "    <tr>\n",
       "      <th>2021-08-10</th>\n",
       "      <td>4,435.79</td>\n",
       "      <td>4,445.21</td>\n",
       "      <td>4,430.03</td>\n",
       "      <td>4,436.75</td>\n",
       "      <td>4,436.75</td>\n",
       "      <td>3,219,840,000</td>\n",
       "    </tr>\n",
       "    <tr>\n",
       "      <th>2021-08-09</th>\n",
       "      <td>4,437.77</td>\n",
       "      <td>4,439.39</td>\n",
       "      <td>4,424.74</td>\n",
       "      <td>4,432.35</td>\n",
       "      <td>4,432.35</td>\n",
       "      <td>2,779,880,000</td>\n",
       "    </tr>\n",
       "    <tr>\n",
       "      <th>2021-08-06</th>\n",
       "      <td>4,429.07</td>\n",
       "      <td>4,440.82</td>\n",
       "      <td>4,429.07</td>\n",
       "      <td>4,436.52</td>\n",
       "      <td>4,436.52</td>\n",
       "      <td>2,839,970,000</td>\n",
       "    </tr>\n",
       "    <tr>\n",
       "      <th>...</th>\n",
       "      <td>...</td>\n",
       "      <td>...</td>\n",
       "      <td>...</td>\n",
       "      <td>...</td>\n",
       "      <td>...</td>\n",
       "      <td>...</td>\n",
       "    </tr>\n",
       "    <tr>\n",
       "      <th>2020-08-18</th>\n",
       "      <td>3,387.04</td>\n",
       "      <td>3,395.06</td>\n",
       "      <td>3,370.15</td>\n",
       "      <td>3,389.78</td>\n",
       "      <td>3,389.78</td>\n",
       "      <td>3,881,310,000</td>\n",
       "    </tr>\n",
       "    <tr>\n",
       "      <th>2020-08-17</th>\n",
       "      <td>3,380.86</td>\n",
       "      <td>3,387.59</td>\n",
       "      <td>3,379.22</td>\n",
       "      <td>3,381.99</td>\n",
       "      <td>3,381.99</td>\n",
       "      <td>3,671,290,000</td>\n",
       "    </tr>\n",
       "    <tr>\n",
       "      <th>2020-08-14</th>\n",
       "      <td>3,368.66</td>\n",
       "      <td>3,378.51</td>\n",
       "      <td>3,361.64</td>\n",
       "      <td>3,372.85</td>\n",
       "      <td>3,372.85</td>\n",
       "      <td>3,193,400,000</td>\n",
       "    </tr>\n",
       "    <tr>\n",
       "      <th>2020-08-13</th>\n",
       "      <td>3,372.95</td>\n",
       "      <td>3,387.24</td>\n",
       "      <td>3,363.35</td>\n",
       "      <td>3,373.43</td>\n",
       "      <td>3,373.43</td>\n",
       "      <td>3,648,810,000</td>\n",
       "    </tr>\n",
       "    <tr>\n",
       "      <th>2020-08-12</th>\n",
       "      <td>3,355.46</td>\n",
       "      <td>3,387.89</td>\n",
       "      <td>3,355.46</td>\n",
       "      <td>3,380.35</td>\n",
       "      <td>3,380.35</td>\n",
       "      <td>3,768,560,000</td>\n",
       "    </tr>\n",
       "  </tbody>\n",
       "</table>\n",
       "<p>253 rows × 6 columns</p>\n",
       "</div>"
      ],
      "text/plain": [
       "                Open      High       Low    Close* Adj Close**         Volume\n",
       "Date                                                                         \n",
       "2021-08-12  4,446.08  4,460.00  4,435.96  4,459.75    4,459.75  1,170,482,000\n",
       "2021-08-11  4,442.18  4,449.44  4,436.42  4,442.41    4,442.41  2,803,060,000\n",
       "2021-08-10  4,435.79  4,445.21  4,430.03  4,436.75    4,436.75  3,219,840,000\n",
       "2021-08-09  4,437.77  4,439.39  4,424.74  4,432.35    4,432.35  2,779,880,000\n",
       "2021-08-06  4,429.07  4,440.82  4,429.07  4,436.52    4,436.52  2,839,970,000\n",
       "...              ...       ...       ...       ...         ...            ...\n",
       "2020-08-18  3,387.04  3,395.06  3,370.15  3,389.78    3,389.78  3,881,310,000\n",
       "2020-08-17  3,380.86  3,387.59  3,379.22  3,381.99    3,381.99  3,671,290,000\n",
       "2020-08-14  3,368.66  3,378.51  3,361.64  3,372.85    3,372.85  3,193,400,000\n",
       "2020-08-13  3,372.95  3,387.24  3,363.35  3,373.43    3,373.43  3,648,810,000\n",
       "2020-08-12  3,355.46  3,387.89  3,355.46  3,380.35    3,380.35  3,768,560,000\n",
       "\n",
       "[253 rows x 6 columns]"
      ]
     },
     "execution_count": 6,
     "metadata": {},
     "output_type": "execute_result"
    }
   ],
   "source": [
    "df1= df1.set_index(\"Date\")\n",
    "df1"
   ]
  },
  {
   "cell_type": "markdown",
   "metadata": {},
   "source": [
    "# Analysis of 2021 data"
   ]
  },
  {
   "cell_type": "code",
   "execution_count": 7,
   "metadata": {},
   "outputs": [
    {
     "data": {
      "text/html": [
       "<div>\n",
       "<style scoped>\n",
       "    .dataframe tbody tr th:only-of-type {\n",
       "        vertical-align: middle;\n",
       "    }\n",
       "\n",
       "    .dataframe tbody tr th {\n",
       "        vertical-align: top;\n",
       "    }\n",
       "\n",
       "    .dataframe thead th {\n",
       "        text-align: right;\n",
       "    }\n",
       "</style>\n",
       "<table border=\"1\" class=\"dataframe\">\n",
       "  <thead>\n",
       "    <tr style=\"text-align: right;\">\n",
       "      <th></th>\n",
       "      <th>Open</th>\n",
       "      <th>High</th>\n",
       "      <th>Low</th>\n",
       "      <th>Close*</th>\n",
       "      <th>Adj Close**</th>\n",
       "      <th>Volume</th>\n",
       "    </tr>\n",
       "    <tr>\n",
       "      <th>Date</th>\n",
       "      <th></th>\n",
       "      <th></th>\n",
       "      <th></th>\n",
       "      <th></th>\n",
       "      <th></th>\n",
       "      <th></th>\n",
       "    </tr>\n",
       "  </thead>\n",
       "  <tbody>\n",
       "    <tr>\n",
       "      <th>2021-08-12</th>\n",
       "      <td>4,446.08</td>\n",
       "      <td>4,460.00</td>\n",
       "      <td>4,435.96</td>\n",
       "      <td>4,459.75</td>\n",
       "      <td>4,459.75</td>\n",
       "      <td>1,170,482,000</td>\n",
       "    </tr>\n",
       "    <tr>\n",
       "      <th>2021-08-11</th>\n",
       "      <td>4,442.18</td>\n",
       "      <td>4,449.44</td>\n",
       "      <td>4,436.42</td>\n",
       "      <td>4,442.41</td>\n",
       "      <td>4,442.41</td>\n",
       "      <td>2,803,060,000</td>\n",
       "    </tr>\n",
       "    <tr>\n",
       "      <th>2021-08-10</th>\n",
       "      <td>4,435.79</td>\n",
       "      <td>4,445.21</td>\n",
       "      <td>4,430.03</td>\n",
       "      <td>4,436.75</td>\n",
       "      <td>4,436.75</td>\n",
       "      <td>3,219,840,000</td>\n",
       "    </tr>\n",
       "    <tr>\n",
       "      <th>2021-08-09</th>\n",
       "      <td>4,437.77</td>\n",
       "      <td>4,439.39</td>\n",
       "      <td>4,424.74</td>\n",
       "      <td>4,432.35</td>\n",
       "      <td>4,432.35</td>\n",
       "      <td>2,779,880,000</td>\n",
       "    </tr>\n",
       "    <tr>\n",
       "      <th>2021-08-06</th>\n",
       "      <td>4,429.07</td>\n",
       "      <td>4,440.82</td>\n",
       "      <td>4,429.07</td>\n",
       "      <td>4,436.52</td>\n",
       "      <td>4,436.52</td>\n",
       "      <td>2,839,970,000</td>\n",
       "    </tr>\n",
       "    <tr>\n",
       "      <th>...</th>\n",
       "      <td>...</td>\n",
       "      <td>...</td>\n",
       "      <td>...</td>\n",
       "      <td>...</td>\n",
       "      <td>...</td>\n",
       "      <td>...</td>\n",
       "    </tr>\n",
       "    <tr>\n",
       "      <th>2021-01-08</th>\n",
       "      <td>3,815.05</td>\n",
       "      <td>3,826.69</td>\n",
       "      <td>3,783.60</td>\n",
       "      <td>3,824.68</td>\n",
       "      <td>3,824.68</td>\n",
       "      <td>4,764,180,000</td>\n",
       "    </tr>\n",
       "    <tr>\n",
       "      <th>2021-01-07</th>\n",
       "      <td>3,764.71</td>\n",
       "      <td>3,811.55</td>\n",
       "      <td>3,764.71</td>\n",
       "      <td>3,803.79</td>\n",
       "      <td>3,803.79</td>\n",
       "      <td>5,080,870,000</td>\n",
       "    </tr>\n",
       "    <tr>\n",
       "      <th>2021-01-06</th>\n",
       "      <td>3,712.20</td>\n",
       "      <td>3,783.04</td>\n",
       "      <td>3,705.34</td>\n",
       "      <td>3,748.14</td>\n",
       "      <td>3,748.14</td>\n",
       "      <td>6,049,970,000</td>\n",
       "    </tr>\n",
       "    <tr>\n",
       "      <th>2021-01-05</th>\n",
       "      <td>3,698.02</td>\n",
       "      <td>3,737.83</td>\n",
       "      <td>3,695.07</td>\n",
       "      <td>3,726.86</td>\n",
       "      <td>3,726.86</td>\n",
       "      <td>4,582,620,000</td>\n",
       "    </tr>\n",
       "    <tr>\n",
       "      <th>2021-01-04</th>\n",
       "      <td>3,764.61</td>\n",
       "      <td>3,769.99</td>\n",
       "      <td>3,662.71</td>\n",
       "      <td>3,700.65</td>\n",
       "      <td>3,700.65</td>\n",
       "      <td>5,006,680,000</td>\n",
       "    </tr>\n",
       "  </tbody>\n",
       "</table>\n",
       "<p>154 rows × 6 columns</p>\n",
       "</div>"
      ],
      "text/plain": [
       "                Open      High       Low    Close* Adj Close**         Volume\n",
       "Date                                                                         \n",
       "2021-08-12  4,446.08  4,460.00  4,435.96  4,459.75    4,459.75  1,170,482,000\n",
       "2021-08-11  4,442.18  4,449.44  4,436.42  4,442.41    4,442.41  2,803,060,000\n",
       "2021-08-10  4,435.79  4,445.21  4,430.03  4,436.75    4,436.75  3,219,840,000\n",
       "2021-08-09  4,437.77  4,439.39  4,424.74  4,432.35    4,432.35  2,779,880,000\n",
       "2021-08-06  4,429.07  4,440.82  4,429.07  4,436.52    4,436.52  2,839,970,000\n",
       "...              ...       ...       ...       ...         ...            ...\n",
       "2021-01-08  3,815.05  3,826.69  3,783.60  3,824.68    3,824.68  4,764,180,000\n",
       "2021-01-07  3,764.71  3,811.55  3,764.71  3,803.79    3,803.79  5,080,870,000\n",
       "2021-01-06  3,712.20  3,783.04  3,705.34  3,748.14    3,748.14  6,049,970,000\n",
       "2021-01-05  3,698.02  3,737.83  3,695.07  3,726.86    3,726.86  4,582,620,000\n",
       "2021-01-04  3,764.61  3,769.99  3,662.71  3,700.65    3,700.65  5,006,680,000\n",
       "\n",
       "[154 rows x 6 columns]"
      ]
     },
     "execution_count": 7,
     "metadata": {},
     "output_type": "execute_result"
    }
   ],
   "source": [
    "#selects the table from January-August 2021\n",
    "this_year2 = df1['2021-08-12':'2021-01-04']\n",
    "this_year2"
   ]
  },
  {
   "cell_type": "code",
   "execution_count": 8,
   "metadata": {},
   "outputs": [],
   "source": [
    "#flips the table to start from the latest date to the earliest\n",
    "this_year2 = this_year2.iloc[::-1]"
   ]
  },
  {
   "cell_type": "code",
   "execution_count": 9,
   "metadata": {},
   "outputs": [
    {
     "data": {
      "text/html": [
       "<div>\n",
       "<style scoped>\n",
       "    .dataframe tbody tr th:only-of-type {\n",
       "        vertical-align: middle;\n",
       "    }\n",
       "\n",
       "    .dataframe tbody tr th {\n",
       "        vertical-align: top;\n",
       "    }\n",
       "\n",
       "    .dataframe thead th {\n",
       "        text-align: right;\n",
       "    }\n",
       "</style>\n",
       "<table border=\"1\" class=\"dataframe\">\n",
       "  <thead>\n",
       "    <tr style=\"text-align: right;\">\n",
       "      <th></th>\n",
       "      <th>Date</th>\n",
       "      <th>Open</th>\n",
       "      <th>High</th>\n",
       "      <th>Low</th>\n",
       "      <th>Close*</th>\n",
       "      <th>Adj Close**</th>\n",
       "      <th>Volume</th>\n",
       "    </tr>\n",
       "  </thead>\n",
       "  <tbody>\n",
       "    <tr>\n",
       "      <th>0</th>\n",
       "      <td>2021-01-04</td>\n",
       "      <td>3,764.61</td>\n",
       "      <td>3,769.99</td>\n",
       "      <td>3,662.71</td>\n",
       "      <td>3,700.65</td>\n",
       "      <td>3,700.65</td>\n",
       "      <td>5,006,680,000</td>\n",
       "    </tr>\n",
       "    <tr>\n",
       "      <th>1</th>\n",
       "      <td>2021-01-05</td>\n",
       "      <td>3,698.02</td>\n",
       "      <td>3,737.83</td>\n",
       "      <td>3,695.07</td>\n",
       "      <td>3,726.86</td>\n",
       "      <td>3,726.86</td>\n",
       "      <td>4,582,620,000</td>\n",
       "    </tr>\n",
       "    <tr>\n",
       "      <th>2</th>\n",
       "      <td>2021-01-06</td>\n",
       "      <td>3,712.20</td>\n",
       "      <td>3,783.04</td>\n",
       "      <td>3,705.34</td>\n",
       "      <td>3,748.14</td>\n",
       "      <td>3,748.14</td>\n",
       "      <td>6,049,970,000</td>\n",
       "    </tr>\n",
       "    <tr>\n",
       "      <th>3</th>\n",
       "      <td>2021-01-07</td>\n",
       "      <td>3,764.71</td>\n",
       "      <td>3,811.55</td>\n",
       "      <td>3,764.71</td>\n",
       "      <td>3,803.79</td>\n",
       "      <td>3,803.79</td>\n",
       "      <td>5,080,870,000</td>\n",
       "    </tr>\n",
       "    <tr>\n",
       "      <th>4</th>\n",
       "      <td>2021-01-08</td>\n",
       "      <td>3,815.05</td>\n",
       "      <td>3,826.69</td>\n",
       "      <td>3,783.60</td>\n",
       "      <td>3,824.68</td>\n",
       "      <td>3,824.68</td>\n",
       "      <td>4,764,180,000</td>\n",
       "    </tr>\n",
       "    <tr>\n",
       "      <th>...</th>\n",
       "      <td>...</td>\n",
       "      <td>...</td>\n",
       "      <td>...</td>\n",
       "      <td>...</td>\n",
       "      <td>...</td>\n",
       "      <td>...</td>\n",
       "      <td>...</td>\n",
       "    </tr>\n",
       "    <tr>\n",
       "      <th>149</th>\n",
       "      <td>2021-08-06</td>\n",
       "      <td>4,429.07</td>\n",
       "      <td>4,440.82</td>\n",
       "      <td>4,429.07</td>\n",
       "      <td>4,436.52</td>\n",
       "      <td>4,436.52</td>\n",
       "      <td>2,839,970,000</td>\n",
       "    </tr>\n",
       "    <tr>\n",
       "      <th>150</th>\n",
       "      <td>2021-08-09</td>\n",
       "      <td>4,437.77</td>\n",
       "      <td>4,439.39</td>\n",
       "      <td>4,424.74</td>\n",
       "      <td>4,432.35</td>\n",
       "      <td>4,432.35</td>\n",
       "      <td>2,779,880,000</td>\n",
       "    </tr>\n",
       "    <tr>\n",
       "      <th>151</th>\n",
       "      <td>2021-08-10</td>\n",
       "      <td>4,435.79</td>\n",
       "      <td>4,445.21</td>\n",
       "      <td>4,430.03</td>\n",
       "      <td>4,436.75</td>\n",
       "      <td>4,436.75</td>\n",
       "      <td>3,219,840,000</td>\n",
       "    </tr>\n",
       "    <tr>\n",
       "      <th>152</th>\n",
       "      <td>2021-08-11</td>\n",
       "      <td>4,442.18</td>\n",
       "      <td>4,449.44</td>\n",
       "      <td>4,436.42</td>\n",
       "      <td>4,442.41</td>\n",
       "      <td>4,442.41</td>\n",
       "      <td>2,803,060,000</td>\n",
       "    </tr>\n",
       "    <tr>\n",
       "      <th>153</th>\n",
       "      <td>2021-08-12</td>\n",
       "      <td>4,446.08</td>\n",
       "      <td>4,460.00</td>\n",
       "      <td>4,435.96</td>\n",
       "      <td>4,459.75</td>\n",
       "      <td>4,459.75</td>\n",
       "      <td>1,170,482,000</td>\n",
       "    </tr>\n",
       "  </tbody>\n",
       "</table>\n",
       "<p>154 rows × 7 columns</p>\n",
       "</div>"
      ],
      "text/plain": [
       "          Date      Open      High       Low    Close* Adj Close**  \\\n",
       "0   2021-01-04  3,764.61  3,769.99  3,662.71  3,700.65    3,700.65   \n",
       "1   2021-01-05  3,698.02  3,737.83  3,695.07  3,726.86    3,726.86   \n",
       "2   2021-01-06  3,712.20  3,783.04  3,705.34  3,748.14    3,748.14   \n",
       "3   2021-01-07  3,764.71  3,811.55  3,764.71  3,803.79    3,803.79   \n",
       "4   2021-01-08  3,815.05  3,826.69  3,783.60  3,824.68    3,824.68   \n",
       "..         ...       ...       ...       ...       ...         ...   \n",
       "149 2021-08-06  4,429.07  4,440.82  4,429.07  4,436.52    4,436.52   \n",
       "150 2021-08-09  4,437.77  4,439.39  4,424.74  4,432.35    4,432.35   \n",
       "151 2021-08-10  4,435.79  4,445.21  4,430.03  4,436.75    4,436.75   \n",
       "152 2021-08-11  4,442.18  4,449.44  4,436.42  4,442.41    4,442.41   \n",
       "153 2021-08-12  4,446.08  4,460.00  4,435.96  4,459.75    4,459.75   \n",
       "\n",
       "            Volume  \n",
       "0    5,006,680,000  \n",
       "1    4,582,620,000  \n",
       "2    6,049,970,000  \n",
       "3    5,080,870,000  \n",
       "4    4,764,180,000  \n",
       "..             ...  \n",
       "149  2,839,970,000  \n",
       "150  2,779,880,000  \n",
       "151  3,219,840,000  \n",
       "152  2,803,060,000  \n",
       "153  1,170,482,000  \n",
       "\n",
       "[154 rows x 7 columns]"
      ]
     },
     "execution_count": 9,
     "metadata": {},
     "output_type": "execute_result"
    }
   ],
   "source": [
    "this_year2 = this_year2.reset_index()\n",
    "this_year2"
   ]
  },
  {
   "cell_type": "code",
   "execution_count": 10,
   "metadata": {},
   "outputs": [],
   "source": [
    "#removes all commas\n",
    "this_year2.replace(',','', regex=True, inplace=True)"
   ]
  },
  {
   "cell_type": "code",
   "execution_count": 11,
   "metadata": {},
   "outputs": [],
   "source": [
    "#converts the Adj Close column from an object to a float\n",
    "this_year2['Adj Close**'] = pd.to_numeric(this_year2['Adj Close**'], downcast=\"float\")"
   ]
  },
  {
   "cell_type": "code",
   "execution_count": 12,
   "metadata": {},
   "outputs": [],
   "source": [
    "this_year2 = this_year2.reset_index()"
   ]
  },
  {
   "cell_type": "code",
   "execution_count": 13,
   "metadata": {},
   "outputs": [
    {
     "data": {
      "text/plain": [
       "Text(0, 0.5, 'Adj_close')"
      ]
     },
     "execution_count": 13,
     "metadata": {},
     "output_type": "execute_result"
    },
    {
     "data": {
      "image/png": "[encoded data removed]",
      "text/plain": [
       "<Figure size 432x288 with 1 Axes>"
      ]
     },
     "metadata": {
      "needs_background": "light"
     },
     "output_type": "display_data"
    }
   ],
   "source": [
    "#plots the graph of Adj Close against the days\n",
    "sns.lineplot(x= this_year2.index, y = this_year2['Adj Close**'], ci=None)\n",
    "plt.title('Adj_Close in 2021')\n",
    "plt.xlabel('Date')\n",
    "plt.ylabel('Adj_close')"
   ]
  },
  {
   "cell_type": "markdown",
   "metadata": {},
   "source": [
    "# Analysis of 2020 data"
   ]
  },
  {
   "cell_type": "code",
   "execution_count": 14,
   "metadata": {},
   "outputs": [
    {
     "data": {
      "text/html": [
       "<div>\n",
       "<style scoped>\n",
       "    .dataframe tbody tr th:only-of-type {\n",
       "        vertical-align: middle;\n",
       "    }\n",
       "\n",
       "    .dataframe tbody tr th {\n",
       "        vertical-align: top;\n",
       "    }\n",
       "\n",
       "    .dataframe thead th {\n",
       "        text-align: right;\n",
       "    }\n",
       "</style>\n",
       "<table border=\"1\" class=\"dataframe\">\n",
       "  <thead>\n",
       "    <tr style=\"text-align: right;\">\n",
       "      <th></th>\n",
       "      <th>Date</th>\n",
       "      <th>Open</th>\n",
       "      <th>High</th>\n",
       "      <th>Low</th>\n",
       "      <th>Close*</th>\n",
       "      <th>Adj Close**</th>\n",
       "      <th>Volume</th>\n",
       "    </tr>\n",
       "  </thead>\n",
       "  <tbody>\n",
       "    <tr>\n",
       "      <th>0</th>\n",
       "      <td>Aug 12, 2020</td>\n",
       "      <td>3,355.46</td>\n",
       "      <td>3,387.89</td>\n",
       "      <td>3,355.46</td>\n",
       "      <td>3,380.35</td>\n",
       "      <td>3,380.35</td>\n",
       "      <td>3,768,560,000</td>\n",
       "    </tr>\n",
       "    <tr>\n",
       "      <th>1</th>\n",
       "      <td>Aug 11, 2020</td>\n",
       "      <td>3,370.34</td>\n",
       "      <td>3,381.01</td>\n",
       "      <td>3,326.44</td>\n",
       "      <td>3,333.69</td>\n",
       "      <td>3,333.69</td>\n",
       "      <td>5,087,650,000</td>\n",
       "    </tr>\n",
       "    <tr>\n",
       "      <th>2</th>\n",
       "      <td>Aug 10, 2020</td>\n",
       "      <td>3,356.04</td>\n",
       "      <td>3,363.29</td>\n",
       "      <td>3,335.44</td>\n",
       "      <td>3,360.47</td>\n",
       "      <td>3,360.47</td>\n",
       "      <td>4,318,570,000</td>\n",
       "    </tr>\n",
       "    <tr>\n",
       "      <th>3</th>\n",
       "      <td>Aug 07, 2020</td>\n",
       "      <td>3,340.05</td>\n",
       "      <td>3,352.54</td>\n",
       "      <td>3,328.72</td>\n",
       "      <td>3,351.28</td>\n",
       "      <td>3,351.28</td>\n",
       "      <td>4,104,860,000</td>\n",
       "    </tr>\n",
       "    <tr>\n",
       "      <th>4</th>\n",
       "      <td>Aug 06, 2020</td>\n",
       "      <td>3,323.17</td>\n",
       "      <td>3,351.03</td>\n",
       "      <td>3,318.14</td>\n",
       "      <td>3,349.16</td>\n",
       "      <td>3,349.16</td>\n",
       "      <td>4,267,490,000</td>\n",
       "    </tr>\n",
       "    <tr>\n",
       "      <th>...</th>\n",
       "      <td>...</td>\n",
       "      <td>...</td>\n",
       "      <td>...</td>\n",
       "      <td>...</td>\n",
       "      <td>...</td>\n",
       "      <td>...</td>\n",
       "      <td>...</td>\n",
       "    </tr>\n",
       "    <tr>\n",
       "      <th>149</th>\n",
       "      <td>Jan 09, 2020</td>\n",
       "      <td>3,266.03</td>\n",
       "      <td>3,275.58</td>\n",
       "      <td>3,263.67</td>\n",
       "      <td>3,274.70</td>\n",
       "      <td>3,274.70</td>\n",
       "      <td>3,638,390,000</td>\n",
       "    </tr>\n",
       "    <tr>\n",
       "      <th>150</th>\n",
       "      <td>Jan 08, 2020</td>\n",
       "      <td>3,238.59</td>\n",
       "      <td>3,267.07</td>\n",
       "      <td>3,236.67</td>\n",
       "      <td>3,253.05</td>\n",
       "      <td>3,253.05</td>\n",
       "      <td>3,720,890,000</td>\n",
       "    </tr>\n",
       "    <tr>\n",
       "      <th>151</th>\n",
       "      <td>Jan 07, 2020</td>\n",
       "      <td>3,241.86</td>\n",
       "      <td>3,244.91</td>\n",
       "      <td>3,232.43</td>\n",
       "      <td>3,237.18</td>\n",
       "      <td>3,237.18</td>\n",
       "      <td>3,420,380,000</td>\n",
       "    </tr>\n",
       "    <tr>\n",
       "      <th>152</th>\n",
       "      <td>Jan 06, 2020</td>\n",
       "      <td>3,217.55</td>\n",
       "      <td>3,246.84</td>\n",
       "      <td>3,214.64</td>\n",
       "      <td>3,246.28</td>\n",
       "      <td>3,246.28</td>\n",
       "      <td>3,674,070,000</td>\n",
       "    </tr>\n",
       "    <tr>\n",
       "      <th>153</th>\n",
       "      <td>Jan 03, 2020</td>\n",
       "      <td>3,226.36</td>\n",
       "      <td>3,246.15</td>\n",
       "      <td>3,222.34</td>\n",
       "      <td>3,234.85</td>\n",
       "      <td>3,234.85</td>\n",
       "      <td>3,461,290,000</td>\n",
       "    </tr>\n",
       "  </tbody>\n",
       "</table>\n",
       "<p>154 rows × 7 columns</p>\n",
       "</div>"
      ],
      "text/plain": [
       "             Date      Open      High       Low    Close* Adj Close**  \\\n",
       "0    Aug 12, 2020  3,355.46  3,387.89  3,355.46  3,380.35    3,380.35   \n",
       "1    Aug 11, 2020  3,370.34  3,381.01  3,326.44  3,333.69    3,333.69   \n",
       "2    Aug 10, 2020  3,356.04  3,363.29  3,335.44  3,360.47    3,360.47   \n",
       "3    Aug 07, 2020  3,340.05  3,352.54  3,328.72  3,351.28    3,351.28   \n",
       "4    Aug 06, 2020  3,323.17  3,351.03  3,318.14  3,349.16    3,349.16   \n",
       "..            ...       ...       ...       ...       ...         ...   \n",
       "149  Jan 09, 2020  3,266.03  3,275.58  3,263.67  3,274.70    3,274.70   \n",
       "150  Jan 08, 2020  3,238.59  3,267.07  3,236.67  3,253.05    3,253.05   \n",
       "151  Jan 07, 2020  3,241.86  3,244.91  3,232.43  3,237.18    3,237.18   \n",
       "152  Jan 06, 2020  3,217.55  3,246.84  3,214.64  3,246.28    3,246.28   \n",
       "153  Jan 03, 2020  3,226.36  3,246.15  3,222.34  3,234.85    3,234.85   \n",
       "\n",
       "            Volume  \n",
       "0    3,768,560,000  \n",
       "1    5,087,650,000  \n",
       "2    4,318,570,000  \n",
       "3    4,104,860,000  \n",
       "4    4,267,490,000  \n",
       "..             ...  \n",
       "149  3,638,390,000  \n",
       "150  3,720,890,000  \n",
       "151  3,420,380,000  \n",
       "152  3,674,070,000  \n",
       "153  3,461,290,000  \n",
       "\n",
       "[154 rows x 7 columns]"
      ]
     },
     "execution_count": 14,
     "metadata": {},
     "output_type": "execute_result"
    }
   ],
   "source": [
    "#reads in a new csv file which contains data from January-August 2020\n",
    "last_year = pd.read_csv('SP2020.csv')\n",
    "last_year"
   ]
  },
  {
   "cell_type": "code",
   "execution_count": 15,
   "metadata": {},
   "outputs": [],
   "source": [
    "last_year[\"Date\"] = pd.to_datetime(last_year[\"Date\"], format='%b %d, %Y' )"
   ]
  },
  {
   "cell_type": "code",
   "execution_count": 16,
   "metadata": {},
   "outputs": [],
   "source": [
    "last_year= last_year.set_index(\"Date\")"
   ]
  },
  {
   "cell_type": "code",
   "execution_count": 17,
   "metadata": {},
   "outputs": [],
   "source": [
    "last_year = last_year.iloc[::-1]"
   ]
  },
  {
   "cell_type": "code",
   "execution_count": 18,
   "metadata": {},
   "outputs": [],
   "source": [
    "last_year = last_year.reset_index()"
   ]
  },
  {
   "cell_type": "code",
   "execution_count": 19,
   "metadata": {},
   "outputs": [],
   "source": [
    "last_year.replace(',','', regex=True, inplace=True)"
   ]
  },
  {
   "cell_type": "code",
   "execution_count": 20,
   "metadata": {},
   "outputs": [],
   "source": [
    "last_year['Adj Close**'] = pd.to_numeric(last_year['Adj Close**'], downcast=\"float\")"
   ]
  },
  {
   "cell_type": "code",
   "execution_count": 21,
   "metadata": {},
   "outputs": [],
   "source": [
    "last_year = last_year.reset_index()"
   ]
  },
  {
   "cell_type": "code",
   "execution_count": 22,
   "metadata": {},
   "outputs": [
    {
     "data": {
      "text/html": [
       "<div>\n",
       "<style scoped>\n",
       "    .dataframe tbody tr th:only-of-type {\n",
       "        vertical-align: middle;\n",
       "    }\n",
       "\n",
       "    .dataframe tbody tr th {\n",
       "        vertical-align: top;\n",
       "    }\n",
       "\n",
       "    .dataframe thead th {\n",
       "        text-align: right;\n",
       "    }\n",
       "</style>\n",
       "<table border=\"1\" class=\"dataframe\">\n",
       "  <thead>\n",
       "    <tr style=\"text-align: right;\">\n",
       "      <th></th>\n",
       "      <th>index</th>\n",
       "      <th>Date</th>\n",
       "      <th>Open</th>\n",
       "      <th>High</th>\n",
       "      <th>Low</th>\n",
       "      <th>Close*</th>\n",
       "      <th>Adj Close**</th>\n",
       "      <th>Volume</th>\n",
       "    </tr>\n",
       "  </thead>\n",
       "  <tbody>\n",
       "    <tr>\n",
       "      <th>0</th>\n",
       "      <td>0</td>\n",
       "      <td>2020-01-03</td>\n",
       "      <td>3226.36</td>\n",
       "      <td>3246.15</td>\n",
       "      <td>3222.34</td>\n",
       "      <td>3234.85</td>\n",
       "      <td>3234.850098</td>\n",
       "      <td>3461290000</td>\n",
       "    </tr>\n",
       "    <tr>\n",
       "      <th>1</th>\n",
       "      <td>1</td>\n",
       "      <td>2020-01-06</td>\n",
       "      <td>3217.55</td>\n",
       "      <td>3246.84</td>\n",
       "      <td>3214.64</td>\n",
       "      <td>3246.28</td>\n",
       "      <td>3246.280029</td>\n",
       "      <td>3674070000</td>\n",
       "    </tr>\n",
       "    <tr>\n",
       "      <th>2</th>\n",
       "      <td>2</td>\n",
       "      <td>2020-01-07</td>\n",
       "      <td>3241.86</td>\n",
       "      <td>3244.91</td>\n",
       "      <td>3232.43</td>\n",
       "      <td>3237.18</td>\n",
       "      <td>3237.179932</td>\n",
       "      <td>3420380000</td>\n",
       "    </tr>\n",
       "    <tr>\n",
       "      <th>3</th>\n",
       "      <td>3</td>\n",
       "      <td>2020-01-08</td>\n",
       "      <td>3238.59</td>\n",
       "      <td>3267.07</td>\n",
       "      <td>3236.67</td>\n",
       "      <td>3253.05</td>\n",
       "      <td>3253.050049</td>\n",
       "      <td>3720890000</td>\n",
       "    </tr>\n",
       "    <tr>\n",
       "      <th>4</th>\n",
       "      <td>4</td>\n",
       "      <td>2020-01-09</td>\n",
       "      <td>3266.03</td>\n",
       "      <td>3275.58</td>\n",
       "      <td>3263.67</td>\n",
       "      <td>3274.70</td>\n",
       "      <td>3274.699951</td>\n",
       "      <td>3638390000</td>\n",
       "    </tr>\n",
       "    <tr>\n",
       "      <th>...</th>\n",
       "      <td>...</td>\n",
       "      <td>...</td>\n",
       "      <td>...</td>\n",
       "      <td>...</td>\n",
       "      <td>...</td>\n",
       "      <td>...</td>\n",
       "      <td>...</td>\n",
       "      <td>...</td>\n",
       "    </tr>\n",
       "    <tr>\n",
       "      <th>149</th>\n",
       "      <td>149</td>\n",
       "      <td>2020-08-06</td>\n",
       "      <td>3323.17</td>\n",
       "      <td>3351.03</td>\n",
       "      <td>3318.14</td>\n",
       "      <td>3349.16</td>\n",
       "      <td>3349.159912</td>\n",
       "      <td>4267490000</td>\n",
       "    </tr>\n",
       "    <tr>\n",
       "      <th>150</th>\n",
       "      <td>150</td>\n",
       "      <td>2020-08-07</td>\n",
       "      <td>3340.05</td>\n",
       "      <td>3352.54</td>\n",
       "      <td>3328.72</td>\n",
       "      <td>3351.28</td>\n",
       "      <td>3351.280029</td>\n",
       "      <td>4104860000</td>\n",
       "    </tr>\n",
       "    <tr>\n",
       "      <th>151</th>\n",
       "      <td>151</td>\n",
       "      <td>2020-08-10</td>\n",
       "      <td>3356.04</td>\n",
       "      <td>3363.29</td>\n",
       "      <td>3335.44</td>\n",
       "      <td>3360.47</td>\n",
       "      <td>3360.469971</td>\n",
       "      <td>4318570000</td>\n",
       "    </tr>\n",
       "    <tr>\n",
       "      <th>152</th>\n",
       "      <td>152</td>\n",
       "      <td>2020-08-11</td>\n",
       "      <td>3370.34</td>\n",
       "      <td>3381.01</td>\n",
       "      <td>3326.44</td>\n",
       "      <td>3333.69</td>\n",
       "      <td>3333.689941</td>\n",
       "      <td>5087650000</td>\n",
       "    </tr>\n",
       "    <tr>\n",
       "      <th>153</th>\n",
       "      <td>153</td>\n",
       "      <td>2020-08-12</td>\n",
       "      <td>3355.46</td>\n",
       "      <td>3387.89</td>\n",
       "      <td>3355.46</td>\n",
       "      <td>3380.35</td>\n",
       "      <td>3380.350098</td>\n",
       "      <td>3768560000</td>\n",
       "    </tr>\n",
       "  </tbody>\n",
       "</table>\n",
       "<p>154 rows × 8 columns</p>\n",
       "</div>"
      ],
      "text/plain": [
       "     index       Date     Open     High      Low   Close*  Adj Close**  \\\n",
       "0        0 2020-01-03  3226.36  3246.15  3222.34  3234.85  3234.850098   \n",
       "1        1 2020-01-06  3217.55  3246.84  3214.64  3246.28  3246.280029   \n",
       "2        2 2020-01-07  3241.86  3244.91  3232.43  3237.18  3237.179932   \n",
       "3        3 2020-01-08  3238.59  3267.07  3236.67  3253.05  3253.050049   \n",
       "4        4 2020-01-09  3266.03  3275.58  3263.67  3274.70  3274.699951   \n",
       "..     ...        ...      ...      ...      ...      ...          ...   \n",
       "149    149 2020-08-06  3323.17  3351.03  3318.14  3349.16  3349.159912   \n",
       "150    150 2020-08-07  3340.05  3352.54  3328.72  3351.28  3351.280029   \n",
       "151    151 2020-08-10  3356.04  3363.29  3335.44  3360.47  3360.469971   \n",
       "152    152 2020-08-11  3370.34  3381.01  3326.44  3333.69  3333.689941   \n",
       "153    153 2020-08-12  3355.46  3387.89  3355.46  3380.35  3380.350098   \n",
       "\n",
       "         Volume  \n",
       "0    3461290000  \n",
       "1    3674070000  \n",
       "2    3420380000  \n",
       "3    3720890000  \n",
       "4    3638390000  \n",
       "..          ...  \n",
       "149  4267490000  \n",
       "150  4104860000  \n",
       "151  4318570000  \n",
       "152  5087650000  \n",
       "153  3768560000  \n",
       "\n",
       "[154 rows x 8 columns]"
      ]
     },
     "execution_count": 22,
     "metadata": {},
     "output_type": "execute_result"
    }
   ],
   "source": [
    "last_year"
   ]
  },
  {
   "cell_type": "code",
   "execution_count": 23,
   "metadata": {},
   "outputs": [
    {
     "data": {
      "text/plain": [
       "<matplotlib.legend.Legend at 0x129cdda9c10>"
      ]
     },
     "execution_count": 23,
     "metadata": {},
     "output_type": "execute_result"
    },
    {
     "data": {
      "image/png": "[encoded data removed]",
      "text/plain": [
       "<Figure size 432x288 with 1 Axes>"
      ]
     },
     "metadata": {
      "needs_background": "light"
     },
     "output_type": "display_data"
    }
   ],
   "source": [
    "sns.lineplot(x= last_year.index, y = last_year['Adj Close**'], ci=None, label='2020')\n",
    "plt.title('Adj_Close in 2020 and 2021')\n",
    "plt.xlabel('Date')\n",
    "plt.ylabel('Adj_close')\n",
    "plt.legend()"
   ]
  },
  {
   "cell_type": "code",
   "execution_count": 24,
   "metadata": {},
   "outputs": [
    {
     "data": {
      "text/plain": [
       "<matplotlib.legend.Legend at 0x129cde10610>"
      ]
     },
     "execution_count": 24,
     "metadata": {},
     "output_type": "execute_result"
    },
    {
     "data": {
      "image/png": "[encoded data removed]",
      "text/plain": [
       "<Figure size 432x288 with 1 Axes>"
      ]
     },
     "metadata": {
      "needs_background": "light"
     },
     "output_type": "display_data"
    }
   ],
   "source": [
    "#combines the graphs of both 2020 and 2021\n",
    "sns.lineplot(x= this_year2.index, y = this_year2['Adj Close**'], ci=None, label='2021')\n",
    "sns.lineplot(x= last_year.index, y = last_year['Adj Close**'], ci=None, label='2020')\n",
    "plt.title('Adj_Close in 2020 and 2021')\n",
    "plt.xlabel('Date')\n",
    "plt.ylabel('Adj_close')\n",
    "plt.legend()"
   ]
  },
  {
   "cell_type": "markdown",
   "metadata": {},
   "source": [
    "Plot a residual plot to decide whether a linear model is appropriate for the data. If the data is randomly spread out, then a linear model is appropriate"
   ]
  },
  {
   "cell_type": "code",
   "execution_count": 25,
   "metadata": {},
   "outputs": [
    {
     "name": "stderr",
     "output_type": "stream",
     "text": [
      "C:\\Users\\Greatness\\anaconda3\\lib\\site-packages\\seaborn\\_decorators.py:36: FutureWarning: Pass the following variables as keyword args: x, y. From version 0.12, the only valid positional argument will be `data`, and passing other arguments without an explicit keyword will result in an error or misinterpretation.\n",
      "  warnings.warn(\n"
     ]
    },
    {
     "data": {
      "image/png": "[encoded data removed]",
      "text/plain": [
       "<Figure size 864x720 with 1 Axes>"
      ]
     },
     "metadata": {
      "needs_background": "light"
     },
     "output_type": "display_data"
    }
   ],
   "source": [
    "#residual plot for the year 2021\n",
    "width = 12\n",
    "height = 10\n",
    "plt.figure(figsize=(width, height))\n",
    "sns.residplot(this_year2['index'], this_year2['Adj Close**'])\n",
    "plt.show()"
   ]
  },
  {
   "cell_type": "code",
   "execution_count": 26,
   "metadata": {},
   "outputs": [
    {
     "data": {
      "text/plain": [
       "LinearRegression()"
      ]
     },
     "execution_count": 26,
     "metadata": {},
     "output_type": "execute_result"
    }
   ],
   "source": [
    "lm = LinearRegression()\n",
    "lm"
   ]
  },
  {
   "cell_type": "code",
   "execution_count": 27,
   "metadata": {},
   "outputs": [],
   "source": [
    "X = this_year2[[\"index\"]]\n",
    "Y = this_year2['Adj Close**']"
   ]
  },
  {
   "cell_type": "code",
   "execution_count": 28,
   "metadata": {
    "scrolled": true
   },
   "outputs": [
    {
     "data": {
      "text/plain": [
       "LinearRegression()"
      ]
     },
     "execution_count": 28,
     "metadata": {},
     "output_type": "execute_result"
    }
   ],
   "source": [
    "lm.fit(X,Y)"
   ]
  },
  {
   "cell_type": "code",
   "execution_count": 29,
   "metadata": {},
   "outputs": [
    {
     "data": {
      "text/plain": [
       "array([3747.12505474, 3751.69233618, 3756.25961763, 3760.82689907,\n",
       "       3765.39418052])"
      ]
     },
     "execution_count": 29,
     "metadata": {},
     "output_type": "execute_result"
    }
   ],
   "source": [
    "Yhat=lm.predict(X)\n",
    "Yhat[0:5]"
   ]
  },
  {
   "cell_type": "code",
   "execution_count": 30,
   "metadata": {},
   "outputs": [
    {
     "data": {
      "text/plain": [
       "3747.125054739867"
      ]
     },
     "execution_count": 30,
     "metadata": {},
     "output_type": "execute_result"
    }
   ],
   "source": [
    "lm.intercept_"
   ]
  },
  {
   "cell_type": "code",
   "execution_count": 31,
   "metadata": {},
   "outputs": [
    {
     "data": {
      "text/plain": [
       "array([4.56728144])"
      ]
     },
     "execution_count": 31,
     "metadata": {},
     "output_type": "execute_result"
    }
   ],
   "source": [
    "lm.coef_"
   ]
  },
  {
   "cell_type": "markdown",
   "metadata": {},
   "source": [
    "Yhat = a+bX\n",
    "\n",
    "Formula for the year 2021:\n",
    "\n",
    "Adjclose = 3747.13 + 4.57 * index"
   ]
  },
  {
   "cell_type": "code",
   "execution_count": 32,
   "metadata": {},
   "outputs": [
    {
     "data": {
      "text/plain": [
       "(0.0, 4497.705004882812)"
      ]
     },
     "execution_count": 32,
     "metadata": {},
     "output_type": "execute_result"
    },
    {
     "data": {
      "image/png": "[encoded data removed]",
      "text/plain": [
       "<Figure size 648x504 with 1 Axes>"
      ]
     },
     "metadata": {
      "needs_background": "light"
     },
     "output_type": "display_data"
    }
   ],
   "source": [
    "#regression plot for the year 2021\n",
    "width = 9\n",
    "height = 7\n",
    "plt.figure(figsize=(width, height))\n",
    "sns.regplot(x=\"index\", y=\"Adj Close**\", data=this_year2)\n",
    "plt.ylim(0,)"
   ]
  },
  {
   "cell_type": "code",
   "execution_count": 33,
   "metadata": {},
   "outputs": [
    {
     "data": {
      "text/plain": [
       "(0.0, 3443.58740234375)"
      ]
     },
     "execution_count": 33,
     "metadata": {},
     "output_type": "execute_result"
    },
    {
     "data": {
      "image/png": "[encoded data removed]",
      "text/plain": [
       "<Figure size 648x504 with 1 Axes>"
      ]
     },
     "metadata": {
      "needs_background": "light"
     },
     "output_type": "display_data"
    }
   ],
   "source": [
    "#regression plot for the year 2020\n",
    "width = 9\n",
    "height = 7\n",
    "plt.figure(figsize=(width, height))\n",
    "sns.regplot(x=\"index\", y=\"Adj Close**\", data=last_year)\n",
    "plt.ylim(0,)"
   ]
  },
  {
   "cell_type": "code",
   "execution_count": 34,
   "metadata": {},
   "outputs": [
    {
     "name": "stderr",
     "output_type": "stream",
     "text": [
      "C:\\Users\\Greatness\\anaconda3\\lib\\site-packages\\seaborn\\_decorators.py:36: FutureWarning: Pass the following variables as keyword args: x, y. From version 0.12, the only valid positional argument will be `data`, and passing other arguments without an explicit keyword will result in an error or misinterpretation.\n",
      "  warnings.warn(\n"
     ]
    },
    {
     "data": {
      "image/png": "[encoded data removed]",
      "text/plain": [
       "<Figure size 432x360 with 1 Axes>"
      ]
     },
     "metadata": {
      "needs_background": "light"
     },
     "output_type": "display_data"
    }
   ],
   "source": [
    "#residual plot for the year 2020\n",
    "width = 6\n",
    "height = 5\n",
    "plt.figure(figsize=(width, height))\n",
    "sns.residplot(last_year['index'], last_year['Adj Close**'])\n",
    "plt.show()"
   ]
  },
  {
   "cell_type": "markdown",
   "metadata": {},
   "source": [
    "This data is definitely not spread out randomly and is therefore not appropriate for a linear model. A polynomial model might work."
   ]
  },
  {
   "cell_type": "markdown",
   "metadata": {},
   "source": [
    "# Polynomial regression for the year 2020"
   ]
  },
  {
   "cell_type": "code",
   "execution_count": 35,
   "metadata": {},
   "outputs": [],
   "source": [
    "def PlotPolly(model, independent_variable, dependent_variabble, Name):\n",
    "    x_new = np.linspace(15, 55, 100)\n",
    "    y_new = model(x_new)\n",
    "\n",
    "    plt.plot(independent_variable, dependent_variabble, '.', x_new, y_new, '-')\n",
    "    plt.title('Polynomial Fit with Matplotlib for Adj Close')\n",
    "    ax = plt.gca()\n",
    "    ax.set_facecolor((0.898, 0.898, 0.898))\n",
    "    fig = plt.gcf()\n",
    "    plt.xlabel(Name)\n",
    "    plt.ylabel('Adj Close')\n",
    "\n",
    "    plt.show()\n",
    "    plt.close()"
   ]
  },
  {
   "cell_type": "code",
   "execution_count": 36,
   "metadata": {},
   "outputs": [],
   "source": [
    "m = last_year[\"index\"]\n",
    "n = last_year['Adj Close**']"
   ]
  },
  {
   "cell_type": "code",
   "execution_count": 37,
   "metadata": {},
   "outputs": [
    {
     "name": "stdout",
     "output_type": "stream",
     "text": [
      "        2\n",
      "0.1127 x - 16.85 x + 3447\n"
     ]
    }
   ],
   "source": [
    "#quadratic function to the 2nd order\n",
    "f = np.polyfit(m, n, 2)\n",
    "p = np.poly1d(f)\n",
    "print(p)"
   ]
  },
  {
   "cell_type": "code",
   "execution_count": 38,
   "metadata": {},
   "outputs": [
    {
     "name": "stdout",
     "output_type": "stream",
     "text": [
      "            3          2\n",
      "-0.0006978 x + 0.2728 x - 26.62 x + 3569\n"
     ]
    }
   ],
   "source": [
    "#quadratic function to the 3rd order\n",
    "f = np.polyfit(m, n, 3) \n",
    "p = np.poly1d(f)\n",
    "print(p)"
   ]
  },
  {
   "cell_type": "code",
   "execution_count": 39,
   "metadata": {},
   "outputs": [
    {
     "name": "stdout",
     "output_type": "stream",
     "text": [
      "          4            3          2\n",
      "-2.9e-05 x + 0.008177 x - 0.5982 x + 2.773 x + 3351\n"
     ]
    }
   ],
   "source": [
    "#quadratic function to the 4th order\n",
    "f = np.polyfit(m, n, 4)\n",
    "p = np.poly1d(f)\n",
    "print(p)"
   ]
  },
  {
   "cell_type": "code",
   "execution_count": 40,
   "metadata": {},
   "outputs": [
    {
     "name": "stdout",
     "output_type": "stream",
     "text": [
      "           5            4           3         2\n",
      "9.622e-07 x - 0.000397 x + 0.05815 x - 3.452 x + 64.34 x + 3051\n"
     ]
    }
   ],
   "source": [
    "#quadratic function to the 5th order\n",
    "f = np.polyfit(m, n, 5)\n",
    "p = np.poly1d(f)\n",
    "print(p)"
   ]
  },
  {
   "cell_type": "code",
   "execution_count": 41,
   "metadata": {},
   "outputs": [
    {
     "name": "stdout",
     "output_type": "stream",
     "text": [
      "            6             5             4           3         2\n",
      "-4.055e-10 x + 1.148e-06 x - 0.0004294 x + 0.06078 x - 3.551 x + 65.83 x + 3046\n"
     ]
    }
   ],
   "source": [
    "#quadratic function to the 6th order\n",
    "f = np.polyfit(m, n, 6)\n",
    "p = np.poly1d(f)\n",
    "print(p)"
   ]
  },
  {
   "cell_type": "markdown",
   "metadata": {},
   "source": [
    "After inputing values into the equation, I decided that polynomial eqaution to the 6th order was the best fit for the 2020 model"
   ]
  },
  {
   "cell_type": "code",
   "execution_count": 42,
   "metadata": {},
   "outputs": [
    {
     "data": {
      "image/png": "[encoded data removed]",
      "text/plain": [
       "<Figure size 432x288 with 1 Axes>"
      ]
     },
     "metadata": {
      "needs_background": "light"
     },
     "output_type": "display_data"
    }
   ],
   "source": [
    "PlotPolly(p, m, n, 'days')"
   ]
  }
 ],
 "metadata": {
  "kernelspec": {
   "display_name": "Python 3",
   "language": "python",
   "name": "python3"
  },
  "language_info": {
   "codemirror_mode": {
    "name": "ipython",
    "version": 3
   },
   "file_extension": ".py",
   "mimetype": "text/x-python",
   "name": "python",
   "nbconvert_exporter": "python",
   "pygments_lexer": "ipython3",
   "version": "3.8.5"
  }
 },
 "nbformat": 4,
 "nbformat_minor": 4
}
